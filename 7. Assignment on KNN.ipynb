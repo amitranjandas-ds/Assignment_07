{
 "cells": [
  {
   "cell_type": "markdown",
   "id": "ae6fb311",
   "metadata": {},
   "source": [
    "# Imports"
   ]
  },
  {
   "cell_type": "code",
   "execution_count": 134,
   "id": "fefcc120",
   "metadata": {},
   "outputs": [],
   "source": [
    "import pandas as pd\n",
    "from sklearn.preprocessing import LabelEncoder\n",
    "from sklearn.model_selection import train_test_split as tts\n",
    "from sklearn.linear_model import LinearRegression\n",
    "from sklearn.metrics import mean_squared_error, mean_absolute_error\n",
    "\n",
    "from sklearn.neighbors import KNeighborsRegressor\n",
    "from sklearn.neighbors import KNeighborsClassifier\n"
   ]
  },
  {
   "cell_type": "markdown",
   "id": "e61d2c93",
   "metadata": {},
   "source": [
    "# Step 01: Regression"
   ]
  },
  {
   "cell_type": "code",
   "execution_count": 135,
   "id": "adbd4a90",
   "metadata": {},
   "outputs": [
    {
     "data": {
      "text/html": [
       "<div>\n",
       "<style scoped>\n",
       "    .dataframe tbody tr th:only-of-type {\n",
       "        vertical-align: middle;\n",
       "    }\n",
       "\n",
       "    .dataframe tbody tr th {\n",
       "        vertical-align: top;\n",
       "    }\n",
       "\n",
       "    .dataframe thead th {\n",
       "        text-align: right;\n",
       "    }\n",
       "</style>\n",
       "<table border=\"1\" class=\"dataframe\">\n",
       "  <thead>\n",
       "    <tr style=\"text-align: right;\">\n",
       "      <th></th>\n",
       "      <th>Gender</th>\n",
       "      <th>Height</th>\n",
       "      <th>Weight</th>\n",
       "    </tr>\n",
       "  </thead>\n",
       "  <tbody>\n",
       "    <tr>\n",
       "      <th>0</th>\n",
       "      <td>Male</td>\n",
       "      <td>73.847017</td>\n",
       "      <td>241.893563</td>\n",
       "    </tr>\n",
       "    <tr>\n",
       "      <th>1</th>\n",
       "      <td>Male</td>\n",
       "      <td>68.781904</td>\n",
       "      <td>162.310473</td>\n",
       "    </tr>\n",
       "    <tr>\n",
       "      <th>2</th>\n",
       "      <td>Male</td>\n",
       "      <td>74.110105</td>\n",
       "      <td>212.740856</td>\n",
       "    </tr>\n",
       "    <tr>\n",
       "      <th>3</th>\n",
       "      <td>Male</td>\n",
       "      <td>71.730978</td>\n",
       "      <td>220.042470</td>\n",
       "    </tr>\n",
       "    <tr>\n",
       "      <th>4</th>\n",
       "      <td>Male</td>\n",
       "      <td>69.881796</td>\n",
       "      <td>206.349801</td>\n",
       "    </tr>\n",
       "  </tbody>\n",
       "</table>\n",
       "</div>"
      ],
      "text/plain": [
       "  Gender     Height      Weight\n",
       "0   Male  73.847017  241.893563\n",
       "1   Male  68.781904  162.310473\n",
       "2   Male  74.110105  212.740856\n",
       "3   Male  71.730978  220.042470\n",
       "4   Male  69.881796  206.349801"
      ]
     },
     "execution_count": 135,
     "metadata": {},
     "output_type": "execute_result"
    }
   ],
   "source": [
    "df = pd.read_csv('weight-height.csv')\n",
    "df.head()"
   ]
  },
  {
   "cell_type": "code",
   "execution_count": 136,
   "id": "84fec343",
   "metadata": {},
   "outputs": [],
   "source": [
    "df_enc = df.copy()\n",
    "df_lr = df.copy()\n",
    "df_knnr = df.copy()\n",
    "df_knnC = df.copy()"
   ]
  },
  {
   "cell_type": "code",
   "execution_count": 137,
   "id": "c70c765d",
   "metadata": {},
   "outputs": [
    {
     "data": {
      "text/plain": [
       "Gender    0\n",
       "Height    0\n",
       "Weight    0\n",
       "dtype: int64"
      ]
     },
     "execution_count": 137,
     "metadata": {},
     "output_type": "execute_result"
    }
   ],
   "source": [
    "df.isnull().sum()"
   ]
  },
  {
   "cell_type": "code",
   "execution_count": 138,
   "id": "176e8d78",
   "metadata": {},
   "outputs": [
    {
     "data": {
      "text/plain": [
       "Male      5000\n",
       "Female    3555\n",
       "Name: Gender, dtype: int64"
      ]
     },
     "execution_count": 138,
     "metadata": {},
     "output_type": "execute_result"
    }
   ],
   "source": [
    "df.Gender.value_counts()"
   ]
  },
  {
   "cell_type": "code",
   "execution_count": 139,
   "id": "fa188acf",
   "metadata": {},
   "outputs": [],
   "source": [
    "le = LabelEncoder()\n",
    "df_enc.Gender = le.fit_transform(df_enc.Gender)"
   ]
  },
  {
   "cell_type": "code",
   "execution_count": 140,
   "id": "6dd132d3",
   "metadata": {},
   "outputs": [
    {
     "data": {
      "text/plain": [
       "1    5000\n",
       "0    3555\n",
       "Name: Gender, dtype: int64"
      ]
     },
     "execution_count": 140,
     "metadata": {},
     "output_type": "execute_result"
    }
   ],
   "source": [
    "df_enc.Gender.value_counts()"
   ]
  },
  {
   "cell_type": "markdown",
   "id": "0b7ea1d9",
   "metadata": {},
   "source": [
    "2. Separate x(Gender, Height) and y (y=Weight)\n",
    "3. Train = 70%, Test = 30%\n",
    "4. Apply Linear Regression\n",
    "5. Evaluate the Model (Testing and training Accuracy, MSE for testing)\n",
    "6. Apply KNN Regressor: https://scikit-learn.org/stable/modules/generated/sklearn.neighbors.KNeighborsRegressor.html\n",
    "7. Evaluate the Model (Testing and training Accuracy, MSE for testing)\n",
    "8. Compare KNN & Linear regression with the KNN model and Linear regression as well.\n"
   ]
  },
  {
   "cell_type": "markdown",
   "id": "66e97048",
   "metadata": {},
   "source": [
    "Work from here.."
   ]
  },
  {
   "cell_type": "markdown",
   "id": "24a17505",
   "metadata": {},
   "source": [
    "2. Separate x(Gender, Height) and y (y=Weight)"
   ]
  },
  {
   "cell_type": "code",
   "execution_count": 141,
   "id": "83974047",
   "metadata": {},
   "outputs": [
    {
     "data": {
      "text/html": [
       "<div>\n",
       "<style scoped>\n",
       "    .dataframe tbody tr th:only-of-type {\n",
       "        vertical-align: middle;\n",
       "    }\n",
       "\n",
       "    .dataframe tbody tr th {\n",
       "        vertical-align: top;\n",
       "    }\n",
       "\n",
       "    .dataframe thead th {\n",
       "        text-align: right;\n",
       "    }\n",
       "</style>\n",
       "<table border=\"1\" class=\"dataframe\">\n",
       "  <thead>\n",
       "    <tr style=\"text-align: right;\">\n",
       "      <th></th>\n",
       "      <th>Gender</th>\n",
       "      <th>Height</th>\n",
       "    </tr>\n",
       "  </thead>\n",
       "  <tbody>\n",
       "    <tr>\n",
       "      <th>0</th>\n",
       "      <td>1</td>\n",
       "      <td>73.847017</td>\n",
       "    </tr>\n",
       "    <tr>\n",
       "      <th>1</th>\n",
       "      <td>1</td>\n",
       "      <td>68.781904</td>\n",
       "    </tr>\n",
       "    <tr>\n",
       "      <th>2</th>\n",
       "      <td>1</td>\n",
       "      <td>74.110105</td>\n",
       "    </tr>\n",
       "    <tr>\n",
       "      <th>3</th>\n",
       "      <td>1</td>\n",
       "      <td>71.730978</td>\n",
       "    </tr>\n",
       "    <tr>\n",
       "      <th>4</th>\n",
       "      <td>1</td>\n",
       "      <td>69.881796</td>\n",
       "    </tr>\n",
       "  </tbody>\n",
       "</table>\n",
       "</div>"
      ],
      "text/plain": [
       "   Gender     Height\n",
       "0       1  73.847017\n",
       "1       1  68.781904\n",
       "2       1  74.110105\n",
       "3       1  71.730978\n",
       "4       1  69.881796"
      ]
     },
     "execution_count": 141,
     "metadata": {},
     "output_type": "execute_result"
    }
   ],
   "source": [
    "x = df_enc.drop('Weight', axis=1)\n",
    "y = df_enc[['Weight']]\n",
    "x.head()"
   ]
  },
  {
   "cell_type": "code",
   "execution_count": 142,
   "id": "d263d871",
   "metadata": {},
   "outputs": [
    {
     "data": {
      "text/html": [
       "<div>\n",
       "<style scoped>\n",
       "    .dataframe tbody tr th:only-of-type {\n",
       "        vertical-align: middle;\n",
       "    }\n",
       "\n",
       "    .dataframe tbody tr th {\n",
       "        vertical-align: top;\n",
       "    }\n",
       "\n",
       "    .dataframe thead th {\n",
       "        text-align: right;\n",
       "    }\n",
       "</style>\n",
       "<table border=\"1\" class=\"dataframe\">\n",
       "  <thead>\n",
       "    <tr style=\"text-align: right;\">\n",
       "      <th></th>\n",
       "      <th>Weight</th>\n",
       "    </tr>\n",
       "  </thead>\n",
       "  <tbody>\n",
       "    <tr>\n",
       "      <th>0</th>\n",
       "      <td>241.893563</td>\n",
       "    </tr>\n",
       "    <tr>\n",
       "      <th>1</th>\n",
       "      <td>162.310473</td>\n",
       "    </tr>\n",
       "    <tr>\n",
       "      <th>2</th>\n",
       "      <td>212.740856</td>\n",
       "    </tr>\n",
       "    <tr>\n",
       "      <th>3</th>\n",
       "      <td>220.042470</td>\n",
       "    </tr>\n",
       "    <tr>\n",
       "      <th>4</th>\n",
       "      <td>206.349801</td>\n",
       "    </tr>\n",
       "  </tbody>\n",
       "</table>\n",
       "</div>"
      ],
      "text/plain": [
       "       Weight\n",
       "0  241.893563\n",
       "1  162.310473\n",
       "2  212.740856\n",
       "3  220.042470\n",
       "4  206.349801"
      ]
     },
     "execution_count": 142,
     "metadata": {},
     "output_type": "execute_result"
    }
   ],
   "source": [
    "y.head()"
   ]
  },
  {
   "cell_type": "markdown",
   "id": "4c914556",
   "metadata": {},
   "source": [
    "3. Train = 70%, Test = 30%"
   ]
  },
  {
   "cell_type": "code",
   "execution_count": 143,
   "id": "0994cfb5",
   "metadata": {},
   "outputs": [],
   "source": [
    "xtrain, xtest, ytrain, ytest = tts(x,y,test_size=0.30, random_state=1)"
   ]
  },
  {
   "cell_type": "markdown",
   "id": "fbfb8649",
   "metadata": {},
   "source": [
    "4. Apply Linear Regression"
   ]
  },
  {
   "cell_type": "code",
   "execution_count": 144,
   "id": "14d382ae",
   "metadata": {},
   "outputs": [],
   "source": [
    "reg = LinearRegression()"
   ]
  },
  {
   "cell_type": "code",
   "execution_count": 145,
   "id": "576b4f19",
   "metadata": {},
   "outputs": [
    {
     "data": {
      "text/plain": [
       "LinearRegression()"
      ]
     },
     "execution_count": 145,
     "metadata": {},
     "output_type": "execute_result"
    }
   ],
   "source": [
    "reg.fit(xtrain, ytrain)"
   ]
  },
  {
   "cell_type": "code",
   "execution_count": 146,
   "id": "2cad646a",
   "metadata": {},
   "outputs": [
    {
     "name": "stderr",
     "output_type": "stream",
     "text": [
      "C:\\ProgramData\\Anaconda3\\lib\\site-packages\\sklearn\\base.py:450: UserWarning: X does not have valid feature names, but LinearRegression was fitted with feature names\n",
      "  warnings.warn(\n"
     ]
    },
    {
     "data": {
      "text/plain": [
       "array([[1218.62307606]])"
      ]
     },
     "execution_count": 146,
     "metadata": {},
     "output_type": "execute_result"
    }
   ],
   "source": [
    "reg.predict([[1, 241.893563]]) #Checking Prediction for our data"
   ]
  },
  {
   "cell_type": "code",
   "execution_count": 147,
   "id": "440f2e7f",
   "metadata": {},
   "outputs": [
    {
     "data": {
      "text/plain": [
       "array([[19.34359322,  5.96887438]])"
      ]
     },
     "execution_count": 147,
     "metadata": {},
     "output_type": "execute_result"
    }
   ],
   "source": [
    "reg.coef_ #For our 2 variable m1 and m2 are calculated"
   ]
  },
  {
   "cell_type": "code",
   "execution_count": 148,
   "id": "48ff3440",
   "metadata": {},
   "outputs": [
    {
     "data": {
      "text/plain": [
       "array([-244.55280903])"
      ]
     },
     "execution_count": 148,
     "metadata": {},
     "output_type": "execute_result"
    }
   ],
   "source": [
    "reg.intercept_ #Y Intercept"
   ]
  },
  {
   "cell_type": "code",
   "execution_count": 149,
   "id": "6203f2be",
   "metadata": {},
   "outputs": [
    {
     "data": {
      "text/plain": [
       "array([[143.83013436],\n",
       "       [197.53417989],\n",
       "       [184.63515112],\n",
       "       ...,\n",
       "       [160.7078525 ],\n",
       "       [186.82852694],\n",
       "       [201.4226542 ]])"
      ]
     },
     "execution_count": 149,
     "metadata": {},
     "output_type": "execute_result"
    }
   ],
   "source": [
    "reg.predict(xtest) # Prediction for testing data"
   ]
  },
  {
   "cell_type": "markdown",
   "id": "a721d990",
   "metadata": {},
   "source": [
    "5. Evaluate the Model (Testing and training Accuracy, MSE for testing)"
   ]
  },
  {
   "cell_type": "code",
   "execution_count": 150,
   "id": "89900eb3",
   "metadata": {},
   "outputs": [
    {
     "data": {
      "text/plain": [
       "99.6725099807003"
      ]
     },
     "execution_count": 150,
     "metadata": {},
     "output_type": "execute_result"
    }
   ],
   "source": [
    "#testing MSE\n",
    "test_mse = mean_squared_error(ytest, reg.predict(xtest)) #ytest is actual y, reg.predict(xtest) is actually predicted y\n",
    "test_mse"
   ]
  },
  {
   "cell_type": "code",
   "execution_count": 151,
   "id": "c7a63851",
   "metadata": {},
   "outputs": [
    {
     "data": {
      "text/plain": [
       "104.03843190905906"
      ]
     },
     "execution_count": 151,
     "metadata": {},
     "output_type": "execute_result"
    }
   ],
   "source": [
    "#trainin MSE\n",
    "train_mse = mean_squared_error(ytrain, reg.predict(xtrain))\n",
    "train_mse"
   ]
  },
  {
   "cell_type": "markdown",
   "id": "0be252df",
   "metadata": {},
   "source": [
    "6. Apply KNN Regressor: https://scikit-learn.org/stable/modules/generated/sklearn.neighbors.KNeighborsRegressor.html"
   ]
  },
  {
   "cell_type": "code",
   "execution_count": 152,
   "id": "6c6b7432",
   "metadata": {},
   "outputs": [
    {
     "data": {
      "text/plain": [
       "KNeighborsRegressor(n_neighbors=3)"
      ]
     },
     "execution_count": 152,
     "metadata": {},
     "output_type": "execute_result"
    }
   ],
   "source": [
    "neigh = KNeighborsRegressor(n_neighbors=3)\n",
    "neigh.fit(xtrain, ytrain)"
   ]
  },
  {
   "cell_type": "code",
   "execution_count": 153,
   "id": "4834130d",
   "metadata": {},
   "outputs": [
    {
     "name": "stderr",
     "output_type": "stream",
     "text": [
      "C:\\ProgramData\\Anaconda3\\lib\\site-packages\\sklearn\\base.py:450: UserWarning: X does not have valid feature names, but KNeighborsRegressor was fitted with feature names\n",
      "  warnings.warn(\n"
     ]
    },
    {
     "data": {
      "text/plain": [
       "array([[231.2480519]])"
      ]
     },
     "execution_count": 153,
     "metadata": {},
     "output_type": "execute_result"
    }
   ],
   "source": [
    "neigh.predict([[1, 241.893563]]) #Checking Prediction for our data"
   ]
  },
  {
   "cell_type": "markdown",
   "id": "1db775c0",
   "metadata": {},
   "source": [
    "7. Evaluate the Model (Testing and training Accuracy, MSE for testing)"
   ]
  },
  {
   "cell_type": "code",
   "execution_count": 154,
   "id": "694b9380",
   "metadata": {},
   "outputs": [
    {
     "data": {
      "text/plain": [
       "138.90129829085723"
      ]
     },
     "execution_count": 154,
     "metadata": {},
     "output_type": "execute_result"
    }
   ],
   "source": [
    "#testing MSE\n",
    "knn_test_mse = mean_squared_error(ytest, neigh.predict(xtest)) #ytest is actual y, reg.predict(xtest) is actually predicted y\n",
    "knn_test_mse"
   ]
  },
  {
   "cell_type": "code",
   "execution_count": 155,
   "id": "c2ef8bae",
   "metadata": {},
   "outputs": [
    {
     "data": {
      "text/plain": [
       "68.70923738312098"
      ]
     },
     "execution_count": 155,
     "metadata": {},
     "output_type": "execute_result"
    }
   ],
   "source": [
    "#trainin MSE\n",
    "knn_train_mse = mean_squared_error(ytrain, neigh.predict(xtrain))\n",
    "knn_train_mse"
   ]
  },
  {
   "cell_type": "markdown",
   "id": "0844ad3e",
   "metadata": {},
   "source": [
    "8. Compare KNN & Linear regression with the KNN model and Linear regression as well."
   ]
  },
  {
   "cell_type": "code",
   "execution_count": 156,
   "id": "eefb6353",
   "metadata": {},
   "outputs": [
    {
     "data": {
      "text/plain": [
       "0.8972135459668117"
      ]
     },
     "execution_count": 156,
     "metadata": {},
     "output_type": "execute_result"
    }
   ],
   "source": [
    "reg.score(xtrain, ytrain) # Training accuracy"
   ]
  },
  {
   "cell_type": "code",
   "execution_count": 157,
   "id": "d443b8cf",
   "metadata": {},
   "outputs": [
    {
     "data": {
      "text/plain": [
       "0.9059959607091161"
      ]
     },
     "execution_count": 157,
     "metadata": {},
     "output_type": "execute_result"
    }
   ],
   "source": [
    "reg.score(xtest, ytest) # Testing accuracy"
   ]
  },
  {
   "cell_type": "code",
   "execution_count": 158,
   "id": "8c3c59a6",
   "metadata": {},
   "outputs": [
    {
     "data": {
      "text/plain": [
       "0.9321175959657978"
      ]
     },
     "execution_count": 158,
     "metadata": {},
     "output_type": "execute_result"
    }
   ],
   "source": [
    "neigh.score(xtrain, ytrain)# Training accuracy"
   ]
  },
  {
   "cell_type": "code",
   "execution_count": 159,
   "id": "c3706d0a",
   "metadata": {},
   "outputs": [
    {
     "data": {
      "text/plain": [
       "0.8689981509985368"
      ]
     },
     "execution_count": 159,
     "metadata": {},
     "output_type": "execute_result"
    }
   ],
   "source": [
    "neigh.score(xtest, ytest)# Testing accuracy"
   ]
  },
  {
   "cell_type": "code",
   "execution_count": 160,
   "id": "9cc7e10f",
   "metadata": {},
   "outputs": [
    {
     "name": "stdout",
     "output_type": "stream",
     "text": [
      "Based on training data KNN Regression is more accurate than linear regression\n"
     ]
    }
   ],
   "source": [
    "if(reg.score(xtrain, ytrain)>neigh.score(xtrain, ytrain)):\n",
    "    print('Based on training data linear regression is more accurate than KNN Regression')\n",
    "else:\n",
    "    print('Based on training data KNN Regression is more accurate than linear regression')\n"
   ]
  },
  {
   "cell_type": "code",
   "execution_count": 161,
   "id": "8ec137cf",
   "metadata": {},
   "outputs": [
    {
     "name": "stdout",
     "output_type": "stream",
     "text": [
      "Based on testing data linear regression is more accurate than KNN Regression\n"
     ]
    }
   ],
   "source": [
    "if(reg.score(xtest, ytest)>neigh.score(xtest, ytest)):\n",
    "    print('Based on testing data linear regression is more accurate than KNN Regression')\n",
    "else:\n",
    "    print('Based on testing data KNN Regression is more accurate than linear regression')"
   ]
  },
  {
   "cell_type": "markdown",
   "id": "90825f91",
   "metadata": {},
   "source": [
    "# Step 02: Classification"
   ]
  },
  {
   "cell_type": "code",
   "execution_count": 162,
   "id": "4e4e08c4",
   "metadata": {},
   "outputs": [
    {
     "data": {
      "text/html": [
       "<div>\n",
       "<style scoped>\n",
       "    .dataframe tbody tr th:only-of-type {\n",
       "        vertical-align: middle;\n",
       "    }\n",
       "\n",
       "    .dataframe tbody tr th {\n",
       "        vertical-align: top;\n",
       "    }\n",
       "\n",
       "    .dataframe thead th {\n",
       "        text-align: right;\n",
       "    }\n",
       "</style>\n",
       "<table border=\"1\" class=\"dataframe\">\n",
       "  <thead>\n",
       "    <tr style=\"text-align: right;\">\n",
       "      <th></th>\n",
       "      <th>Gender</th>\n",
       "      <th>Height</th>\n",
       "      <th>Weight</th>\n",
       "    </tr>\n",
       "  </thead>\n",
       "  <tbody>\n",
       "    <tr>\n",
       "      <th>0</th>\n",
       "      <td>1</td>\n",
       "      <td>73.847017</td>\n",
       "      <td>241.893563</td>\n",
       "    </tr>\n",
       "    <tr>\n",
       "      <th>1</th>\n",
       "      <td>1</td>\n",
       "      <td>68.781904</td>\n",
       "      <td>162.310473</td>\n",
       "    </tr>\n",
       "    <tr>\n",
       "      <th>2</th>\n",
       "      <td>1</td>\n",
       "      <td>74.110105</td>\n",
       "      <td>212.740856</td>\n",
       "    </tr>\n",
       "    <tr>\n",
       "      <th>3</th>\n",
       "      <td>1</td>\n",
       "      <td>71.730978</td>\n",
       "      <td>220.042470</td>\n",
       "    </tr>\n",
       "    <tr>\n",
       "      <th>4</th>\n",
       "      <td>1</td>\n",
       "      <td>69.881796</td>\n",
       "      <td>206.349801</td>\n",
       "    </tr>\n",
       "  </tbody>\n",
       "</table>\n",
       "</div>"
      ],
      "text/plain": [
       "   Gender     Height      Weight\n",
       "0       1  73.847017  241.893563\n",
       "1       1  68.781904  162.310473\n",
       "2       1  74.110105  212.740856\n",
       "3       1  71.730978  220.042470\n",
       "4       1  69.881796  206.349801"
      ]
     },
     "execution_count": 162,
     "metadata": {},
     "output_type": "execute_result"
    }
   ],
   "source": [
    "df_enc.head()"
   ]
  },
  {
   "cell_type": "markdown",
   "id": "3ef6acbe",
   "metadata": {},
   "source": [
    "2. Separate x and (y=Gender)\n",
    "3. Train = 70%, Test = 30%\n",
    "4. Apply KNN Classifier \n",
    "5. Evaluate the Model by only Accuracy.\n",
    "6. Apply KNN Classifier: https://scikit-learn.org/stable/modules/generated/sklearn.neighbors.KNeighborsClassifier.html"
   ]
  },
  {
   "cell_type": "markdown",
   "id": "de081538",
   "metadata": {},
   "source": [
    "Work from here.."
   ]
  },
  {
   "cell_type": "markdown",
   "id": "1d753fc3",
   "metadata": {},
   "source": [
    "2. Separate x and (y=Gender)"
   ]
  },
  {
   "cell_type": "code",
   "execution_count": 163,
   "id": "f252f53d",
   "metadata": {},
   "outputs": [
    {
     "data": {
      "text/html": [
       "<div>\n",
       "<style scoped>\n",
       "    .dataframe tbody tr th:only-of-type {\n",
       "        vertical-align: middle;\n",
       "    }\n",
       "\n",
       "    .dataframe tbody tr th {\n",
       "        vertical-align: top;\n",
       "    }\n",
       "\n",
       "    .dataframe thead th {\n",
       "        text-align: right;\n",
       "    }\n",
       "</style>\n",
       "<table border=\"1\" class=\"dataframe\">\n",
       "  <thead>\n",
       "    <tr style=\"text-align: right;\">\n",
       "      <th></th>\n",
       "      <th>Height</th>\n",
       "      <th>Weight</th>\n",
       "    </tr>\n",
       "  </thead>\n",
       "  <tbody>\n",
       "    <tr>\n",
       "      <th>0</th>\n",
       "      <td>73.847017</td>\n",
       "      <td>241.893563</td>\n",
       "    </tr>\n",
       "    <tr>\n",
       "      <th>1</th>\n",
       "      <td>68.781904</td>\n",
       "      <td>162.310473</td>\n",
       "    </tr>\n",
       "    <tr>\n",
       "      <th>2</th>\n",
       "      <td>74.110105</td>\n",
       "      <td>212.740856</td>\n",
       "    </tr>\n",
       "    <tr>\n",
       "      <th>3</th>\n",
       "      <td>71.730978</td>\n",
       "      <td>220.042470</td>\n",
       "    </tr>\n",
       "    <tr>\n",
       "      <th>4</th>\n",
       "      <td>69.881796</td>\n",
       "      <td>206.349801</td>\n",
       "    </tr>\n",
       "  </tbody>\n",
       "</table>\n",
       "</div>"
      ],
      "text/plain": [
       "      Height      Weight\n",
       "0  73.847017  241.893563\n",
       "1  68.781904  162.310473\n",
       "2  74.110105  212.740856\n",
       "3  71.730978  220.042470\n",
       "4  69.881796  206.349801"
      ]
     },
     "execution_count": 163,
     "metadata": {},
     "output_type": "execute_result"
    }
   ],
   "source": [
    "knn_c_x = df_enc.drop('Gender', axis=1)\n",
    "knn_c_y = df_enc[['Gender']]\n",
    "knn_c_x.head()"
   ]
  },
  {
   "cell_type": "code",
   "execution_count": 168,
   "id": "794836aa",
   "metadata": {},
   "outputs": [
    {
     "data": {
      "text/html": [
       "<div>\n",
       "<style scoped>\n",
       "    .dataframe tbody tr th:only-of-type {\n",
       "        vertical-align: middle;\n",
       "    }\n",
       "\n",
       "    .dataframe tbody tr th {\n",
       "        vertical-align: top;\n",
       "    }\n",
       "\n",
       "    .dataframe thead th {\n",
       "        text-align: right;\n",
       "    }\n",
       "</style>\n",
       "<table border=\"1\" class=\"dataframe\">\n",
       "  <thead>\n",
       "    <tr style=\"text-align: right;\">\n",
       "      <th></th>\n",
       "      <th>Gender</th>\n",
       "    </tr>\n",
       "  </thead>\n",
       "  <tbody>\n",
       "    <tr>\n",
       "      <th>0</th>\n",
       "      <td>1</td>\n",
       "    </tr>\n",
       "    <tr>\n",
       "      <th>1</th>\n",
       "      <td>1</td>\n",
       "    </tr>\n",
       "    <tr>\n",
       "      <th>2</th>\n",
       "      <td>1</td>\n",
       "    </tr>\n",
       "    <tr>\n",
       "      <th>3</th>\n",
       "      <td>1</td>\n",
       "    </tr>\n",
       "    <tr>\n",
       "      <th>4</th>\n",
       "      <td>1</td>\n",
       "    </tr>\n",
       "  </tbody>\n",
       "</table>\n",
       "</div>"
      ],
      "text/plain": [
       "   Gender\n",
       "0       1\n",
       "1       1\n",
       "2       1\n",
       "3       1\n",
       "4       1"
      ]
     },
     "execution_count": 168,
     "metadata": {},
     "output_type": "execute_result"
    }
   ],
   "source": [
    "knn_c_y.head()"
   ]
  },
  {
   "cell_type": "markdown",
   "id": "e45c7550",
   "metadata": {},
   "source": [
    "3. Train = 70%, Test = 30%"
   ]
  },
  {
   "cell_type": "code",
   "execution_count": 169,
   "id": "c262e5be",
   "metadata": {},
   "outputs": [],
   "source": [
    "knn_c_xtrain, knn_c_xtest, knn_c_ytrain, knn_c_ytest = tts(knn_c_x,knn_c_y,test_size=0.30, random_state=1)"
   ]
  },
  {
   "cell_type": "markdown",
   "id": "f6950a81",
   "metadata": {},
   "source": [
    "4. Apply KNN Classifier "
   ]
  },
  {
   "cell_type": "code",
   "execution_count": 170,
   "id": "ace86c5a",
   "metadata": {},
   "outputs": [
    {
     "name": "stderr",
     "output_type": "stream",
     "text": [
      "C:\\ProgramData\\Anaconda3\\lib\\site-packages\\sklearn\\neighbors\\_classification.py:198: DataConversionWarning: A column-vector y was passed when a 1d array was expected. Please change the shape of y to (n_samples,), for example using ravel().\n",
      "  return self._fit(X, y)\n"
     ]
    },
    {
     "data": {
      "text/plain": [
       "KNeighborsClassifier()"
      ]
     },
     "execution_count": 170,
     "metadata": {},
     "output_type": "execute_result"
    }
   ],
   "source": [
    "knn_c_neigh = KNeighborsClassifier(n_neighbors=5)\n",
    "knn_c_neigh.fit(knn_c_xtrain, knn_c_ytrain)"
   ]
  },
  {
   "cell_type": "code",
   "execution_count": 173,
   "id": "3a437c83",
   "metadata": {},
   "outputs": [
    {
     "name": "stderr",
     "output_type": "stream",
     "text": [
      "C:\\ProgramData\\Anaconda3\\lib\\site-packages\\sklearn\\base.py:450: UserWarning: X does not have valid feature names, but KNeighborsClassifier was fitted with feature names\n",
      "  warnings.warn(\n"
     ]
    },
    {
     "data": {
      "text/plain": [
       "array([1])"
      ]
     },
     "execution_count": 173,
     "metadata": {},
     "output_type": "execute_result"
    }
   ],
   "source": [
    "knn_c_neigh.predict([[73.847017, 241.893563]])"
   ]
  },
  {
   "cell_type": "markdown",
   "id": "f17fb57a",
   "metadata": {},
   "source": [
    "Evaluate the Model by only Accuracy."
   ]
  },
  {
   "cell_type": "code",
   "execution_count": 174,
   "id": "a55b3b5a",
   "metadata": {},
   "outputs": [
    {
     "data": {
      "text/plain": [
       "0.9263527054108216"
      ]
     },
     "execution_count": 174,
     "metadata": {},
     "output_type": "execute_result"
    }
   ],
   "source": [
    "knn_c_neigh.score(knn_c_xtrain, knn_c_ytrain)# Training accuracy"
   ]
  },
  {
   "cell_type": "code",
   "execution_count": 175,
   "id": "3baea0e6",
   "metadata": {},
   "outputs": [
    {
     "data": {
      "text/plain": [
       "0.9146864043630697"
      ]
     },
     "execution_count": 175,
     "metadata": {},
     "output_type": "execute_result"
    }
   ],
   "source": [
    "knn_c_neigh.score(knn_c_xtest, knn_c_ytest)# Testing accuracy"
   ]
  },
  {
   "cell_type": "code",
   "execution_count": 177,
   "id": "556895ea",
   "metadata": {},
   "outputs": [
    {
     "name": "stdout",
     "output_type": "stream",
     "text": [
      "Based On KNN Classifier on our training data, our model performance is 92.63527054108216 %\n"
     ]
    }
   ],
   "source": [
    "print('Based On KNN Classifier on our training data, our model performance is', knn_c_neigh.score(knn_c_xtrain, knn_c_ytrain)*100,'%')"
   ]
  },
  {
   "cell_type": "code",
   "execution_count": 178,
   "id": "27c051ae",
   "metadata": {},
   "outputs": [
    {
     "name": "stdout",
     "output_type": "stream",
     "text": [
      "Based On KNN Classifier on our testing data, our model performance is 91.46864043630697 %\n"
     ]
    }
   ],
   "source": [
    "print('Based On KNN Classifier on our testing data, our model performance is', knn_c_neigh.score(knn_c_xtest, knn_c_ytest)*100,'%')"
   ]
  },
  {
   "cell_type": "code",
   "execution_count": null,
   "id": "7369d23f",
   "metadata": {},
   "outputs": [],
   "source": []
  }
 ],
 "metadata": {
  "kernelspec": {
   "display_name": "Python 3 (ipykernel)",
   "language": "python",
   "name": "python3"
  },
  "language_info": {
   "codemirror_mode": {
    "name": "ipython",
    "version": 3
   },
   "file_extension": ".py",
   "mimetype": "text/x-python",
   "name": "python",
   "nbconvert_exporter": "python",
   "pygments_lexer": "ipython3",
   "version": "3.9.12"
  }
 },
 "nbformat": 4,
 "nbformat_minor": 5
}
